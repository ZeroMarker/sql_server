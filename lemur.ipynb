{
    "metadata": {
        "kernelspec": {
            "name": "SQL",
            "display_name": "SQL",
            "language": "sql"
        },
        "language_info": {
            "name": "sql",
            "version": ""
        }
    },
    "nbformat_minor": 2,
    "nbformat": 4,
    "cells": [
        {
            "cell_type": "code",
            "source": [
                "SELECT name, database_id, create_date  \r\n",
                "FROM sys.databases;  \r\n",
                "GO"
            ],
            "metadata": {
                "azdata_cell_guid": "560c9e1b-d8b9-440f-963f-5b64ea190be3",
                "language": "sql",
                "tags": []
            },
            "outputs": [
                {
                    "output_type": "display_data",
                    "data": {
                        "text/html": "(4 rows affected)"
                    },
                    "metadata": {}
                },
                {
                    "output_type": "display_data",
                    "data": {
                        "text/html": "Total execution time: 00:00:00.244"
                    },
                    "metadata": {}
                },
                {
                    "output_type": "execute_result",
                    "metadata": {},
                    "execution_count": 3,
                    "data": {
                        "application/vnd.dataresource+json": {
                            "schema": {
                                "fields": [
                                    {
                                        "name": "name"
                                    },
                                    {
                                        "name": "database_id"
                                    },
                                    {
                                        "name": "create_date"
                                    }
                                ]
                            },
                            "data": [
                                {
                                    "name": "master",
                                    "database_id": "1",
                                    "create_date": "2003-04-08 09:13:36.390"
                                },
                                {
                                    "name": "tempdb",
                                    "database_id": "2",
                                    "create_date": "2023-11-16 09:39:31.310"
                                },
                                {
                                    "name": "model",
                                    "database_id": "3",
                                    "create_date": "2003-04-08 09:13:36.390"
                                },
                                {
                                    "name": "msdb",
                                    "database_id": "4",
                                    "create_date": "2023-09-27 12:37:14.380"
                                }
                            ]
                        },
                        "text/html": [
                            "<table>",
                            "<tr><th>name</th><th>database_id</th><th>create_date</th></tr>",
                            "<tr><td>master</td><td>1</td><td>2003-04-08 09:13:36.390</td></tr>",
                            "<tr><td>tempdb</td><td>2</td><td>2023-11-16 09:39:31.310</td></tr>",
                            "<tr><td>model</td><td>3</td><td>2003-04-08 09:13:36.390</td></tr>",
                            "<tr><td>msdb</td><td>4</td><td>2023-09-27 12:37:14.380</td></tr>",
                            "</table>"
                        ]
                    }
                }
            ],
            "execution_count": 3
        }
    ]
}